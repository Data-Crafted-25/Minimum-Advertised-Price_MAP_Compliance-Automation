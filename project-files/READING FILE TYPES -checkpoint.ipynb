{
 "cells": [
  {
   "cell_type": "code",
   "execution_count": 8,
   "id": "a05e3bf1-dd2b-4472-a99c-22033f87784d",
   "metadata": {
    "scrolled": true
   },
   "outputs": [
    {
     "name": "stdout",
     "output_type": "stream",
     "text": [
      "Requirement already satisfied: pandas in c:\\users\\dell\\appdata\\local\\programs\\python\\python313\\lib\\site-packages (2.2.3)\n",
      "Requirement already satisfied: openpyxl in c:\\users\\dell\\appdata\\local\\programs\\python\\python313\\lib\\site-packages (3.1.5)\n",
      "Requirement already satisfied: PyYAML in c:\\users\\dell\\appdata\\local\\programs\\python\\python313\\lib\\site-packages (6.0.2)\n",
      "Requirement already satisfied: numpy>=1.26.0 in c:\\users\\dell\\appdata\\local\\programs\\python\\python313\\lib\\site-packages (from pandas) (2.2.3)\n",
      "Requirement already satisfied: python-dateutil>=2.8.2 in c:\\users\\dell\\appdata\\local\\programs\\python\\python313\\lib\\site-packages (from pandas) (2.9.0.post0)\n",
      "Requirement already satisfied: pytz>=2020.1 in c:\\users\\dell\\appdata\\local\\programs\\python\\python313\\lib\\site-packages (from pandas) (2025.1)\n",
      "Requirement already satisfied: tzdata>=2022.7 in c:\\users\\dell\\appdata\\local\\programs\\python\\python313\\lib\\site-packages (from pandas) (2025.1)\n",
      "Requirement already satisfied: et-xmlfile in c:\\users\\dell\\appdata\\local\\programs\\python\\python313\\lib\\site-packages (from openpyxl) (2.0.0)\n",
      "Requirement already satisfied: six>=1.5 in c:\\users\\dell\\appdata\\local\\programs\\python\\python313\\lib\\site-packages (from python-dateutil>=2.8.2->pandas) (1.17.0)\n",
      "Note: you may need to restart the kernel to use updated packages.\n"
     ]
    }
   ],
   "source": [
    "pip install pandas openpyxl PyYAML"
   ]
  },
  {
   "cell_type": "code",
   "execution_count": 7,
   "id": "d00bd397-5cf9-4e1d-a596-4f0e83431d69",
   "metadata": {},
   "outputs": [
    {
     "name": "stdout",
     "output_type": "stream",
     "text": [
      "Requirement already satisfied: pip in c:\\users\\dell\\appdata\\local\\programs\\python\\python313\\lib\\site-packages (25.1.1)\n",
      "Collecting pip\n",
      "  Downloading pip-25.2-py3-none-any.whl.metadata (4.7 kB)\n",
      "Downloading pip-25.2-py3-none-any.whl (1.8 MB)\n",
      "   ---------------------------------------- 0.0/1.8 MB ? eta -:--:--\n",
      "   ----- ---------------------------------- 0.3/1.8 MB ? eta -:--:--\n",
      "   ----------------------- ---------------- 1.0/1.8 MB 3.6 MB/s eta 0:00:01\n",
      "   ---------------------------------------- 1.8/1.8 MB 3.5 MB/s eta 0:00:00\n",
      "Installing collected packages: pip\n",
      "  Attempting uninstall: pip\n",
      "    Found existing installation: pip 25.1.1\n",
      "    Uninstalling pip-25.1.1:\n",
      "      Successfully uninstalled pip-25.1.1\n",
      "Successfully installed pip-25.2\n"
     ]
    }
   ],
   "source": [
    "!python.exe -m pip install --upgrade pip"
   ]
  },
  {
   "cell_type": "code",
   "execution_count": 9,
   "id": "402eae60-45db-4d81-ab6d-fcaa5028f4ed",
   "metadata": {},
   "outputs": [],
   "source": [
    "import json "
   ]
  },
  {
   "cell_type": "code",
   "execution_count": 10,
   "id": "f1d5a70f-4103-438f-b9b0-5ab7a5b91e9c",
   "metadata": {},
   "outputs": [],
   "source": [
    "import pandas as pd"
   ]
  },
  {
   "cell_type": "code",
   "execution_count": 6,
   "id": "3dd84613-bac9-4f9e-bcd2-672663eb82f4",
   "metadata": {},
   "outputs": [],
   "source": [
    "# Load JSON data\n",
    "data=[]\n",
    "with open (\"Category Mapping Table.json\",'r',encoding='utf-8') as f:\n",
    "    for line in f:\n",
    "     data.append(json.loads(line))"
   ]
  },
  {
   "cell_type": "code",
   "execution_count": 8,
   "id": "91a2200a-4002-4570-8ff0-a0b5951aedeb",
   "metadata": {},
   "outputs": [],
   "source": [
    "# Convert to DataFrame\n",
    "df=pd.DataFrame(data)"
   ]
  },
  {
   "cell_type": "code",
   "execution_count": 9,
   "id": "712fca50-3630-4438-a68a-d80312dd0ca3",
   "metadata": {},
   "outputs": [],
   "source": [
    "# Export to Excel\n",
    "\n",
    "df.to_excel('output_from_json.xlsx', index=False)"
   ]
  },
  {
   "cell_type": "code",
   "execution_count": 16,
   "id": "f42acc60-5561-4c27-b4c4-f9dc1f7cfe07",
   "metadata": {},
   "outputs": [],
   "source": [
    "# Load JSON data\n",
    "data=[]\n",
    "with open(\"PL Table.json\",'r',encoding='utf-8') as k:\n",
    "    for line in k:\n",
    "        data.append(json.loads(line))"
   ]
  },
  {
   "cell_type": "code",
   "execution_count": 17,
   "id": "8f871498-bdf7-427d-bf77-da014649f648",
   "metadata": {},
   "outputs": [],
   "source": [
    "df=pd.DataFrame(data)"
   ]
  },
  {
   "cell_type": "code",
   "execution_count": 18,
   "id": "53ea5391-a1d8-4457-b7ae-e95018ea08f5",
   "metadata": {},
   "outputs": [],
   "source": [
    "df.to_excel('pl excel.xlsx',index=False)"
   ]
  },
  {
   "cell_type": "code",
   "execution_count": 16,
   "id": "3f594bc7-010b-4bdc-9878-f09b048b1d19",
   "metadata": {},
   "outputs": [],
   "source": [
    "import yaml"
   ]
  },
  {
   "cell_type": "code",
   "execution_count": 17,
   "id": "c8fafc38-e140-49ce-a09b-e3878024e592",
   "metadata": {},
   "outputs": [],
   "source": [
    "# Load yaml data\n",
    "data=[]\n",
    "with open(\"Price List Table.yaml\",'r',encoding='utf-8') as l:\n",
    "    data=yaml.safe_load(l)"
   ]
  },
  {
   "cell_type": "code",
   "execution_count": 18,
   "id": "e530416a-6209-4b26-bee0-8e44e812779e",
   "metadata": {},
   "outputs": [],
   "source": [
    "# Convert to DataFrame\n",
    "df=pd.DataFrame(data)"
   ]
  },
  {
   "cell_type": "code",
   "execution_count": 19,
   "id": "a820faca-0548-4ac0-a14d-4ccb599f3887",
   "metadata": {},
   "outputs": [],
   "source": [
    "# Export to Excel\n",
    "df.to_excel(\"price_list.xlsx\",index=False)"
   ]
  },
  {
   "cell_type": "code",
   "execution_count": 25,
   "id": "afecb343-f5ae-478a-adb1-00fa1495b06f",
   "metadata": {},
   "outputs": [],
   "source": [
    "# Read all tables from XML file\n",
    "import xml.etree.ElementTree as ET"
   ]
  },
  {
   "cell_type": "code",
   "execution_count": 26,
   "id": "bfe50ac9-1126-4c60-bedb-0396dc2690f7",
   "metadata": {},
   "outputs": [],
   "source": [
    "# Parse XML\n",
    "tree=ET.parse(\"SKU Table.xml\")\n",
    "root=tree.getroot()"
   ]
  },
  {
   "cell_type": "code",
   "execution_count": 33,
   "id": "90357b95-0a25-42e4-a544-766cc7b2b396",
   "metadata": {},
   "outputs": [],
   "source": [
    "# Extract data\n",
    "data = []\n",
    "for item in root.findall('item'):\n",
    "    row = {}\n",
    "    for child in item:\n",
    "        row[child.tag] = child.text\n",
    "    data.append(row)"
   ]
  },
  {
   "cell_type": "code",
   "execution_count": 34,
   "id": "dfe0733f-b1a7-4c29-8fb5-a3027f27fc31",
   "metadata": {},
   "outputs": [],
   "source": [
    "# Convert to DataFrame\n",
    "df=pd.DataFrame(data)"
   ]
  },
  {
   "cell_type": "code",
   "execution_count": 35,
   "id": "03aa3d5e-2832-4dc0-b299-fe9fff32d722",
   "metadata": {},
   "outputs": [],
   "source": [
    "# Export to Excel\n",
    "df.to_excel(\"SKU_TABLE.xlsx\",index=False)"
   ]
  },
  {
   "cell_type": "code",
   "execution_count": null,
   "id": "1f517a20-cb47-44f6-9f07-c15fa2e9dc83",
   "metadata": {},
   "outputs": [],
   "source": []
  },
  {
   "cell_type": "code",
   "execution_count": null,
   "id": "21ad0474-a887-4c36-8e3a-b15d4ef5d7fb",
   "metadata": {},
   "outputs": [],
   "source": []
  }
 ],
 "metadata": {
  "kernelspec": {
   "display_name": "Python 3 (ipykernel)",
   "language": "python",
   "name": "python3"
  },
  "language_info": {
   "codemirror_mode": {
    "name": "ipython",
    "version": 3
   },
   "file_extension": ".py",
   "mimetype": "text/x-python",
   "name": "python",
   "nbconvert_exporter": "python",
   "pygments_lexer": "ipython3",
   "version": "3.13.2"
  }
 },
 "nbformat": 4,
 "nbformat_minor": 5
}
