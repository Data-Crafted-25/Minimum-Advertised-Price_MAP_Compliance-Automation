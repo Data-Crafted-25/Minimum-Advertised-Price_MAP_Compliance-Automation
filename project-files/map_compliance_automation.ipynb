{
 "cells": [
  {
   "cell_type": "code",
   "execution_count": 1,
   "id": "042ff86c-7c60-46f4-8416-60ffcc65fdeb",
   "metadata": {},
   "outputs": [
    {
     "name": "stdout",
     "output_type": "stream",
     "text": [
      "Requirement already satisfied: docxtpl in c:\\users\\dell\\appdata\\local\\programs\\python\\python313\\lib\\site-packages (0.20.1)\n",
      "Requirement already satisfied: python-docx>=1.1.1 in c:\\users\\dell\\appdata\\local\\programs\\python\\python313\\lib\\site-packages (from docxtpl) (1.2.0)\n",
      "Requirement already satisfied: docxcompose in c:\\users\\dell\\appdata\\local\\programs\\python\\python313\\lib\\site-packages (from docxtpl) (1.4.0)\n",
      "Requirement already satisfied: jinja2 in c:\\users\\dell\\appdata\\local\\programs\\python\\python313\\lib\\site-packages (from docxtpl) (3.1.6)\n",
      "Requirement already satisfied: lxml in c:\\users\\dell\\appdata\\local\\programs\\python\\python313\\lib\\site-packages (from docxtpl) (5.4.0)\n",
      "Requirement already satisfied: typing_extensions>=4.9.0 in c:\\users\\dell\\appdata\\local\\programs\\python\\python313\\lib\\site-packages (from python-docx>=1.1.1->docxtpl) (4.12.2)\n",
      "Requirement already satisfied: setuptools in c:\\users\\dell\\appdata\\local\\programs\\python\\python313\\lib\\site-packages (from docxcompose->docxtpl) (75.8.2)\n",
      "Requirement already satisfied: six in c:\\users\\dell\\appdata\\local\\programs\\python\\python313\\lib\\site-packages (from docxcompose->docxtpl) (1.17.0)\n",
      "Requirement already satisfied: babel in c:\\users\\dell\\appdata\\local\\programs\\python\\python313\\lib\\site-packages (from docxcompose->docxtpl) (2.17.0)\n",
      "Requirement already satisfied: MarkupSafe>=2.0 in c:\\users\\dell\\appdata\\local\\programs\\python\\python313\\lib\\site-packages (from jinja2->docxtpl) (3.0.2)\n",
      "Note: you may need to restart the kernel to use updated packages.\n"
     ]
    }
   ],
   "source": [
    "pip install docxtpl"
   ]
  },
  {
   "cell_type": "code",
   "execution_count": 2,
   "id": "681be290-e371-4d79-a09b-df96282c05ae",
   "metadata": {},
   "outputs": [],
   "source": [
    "#imports\n",
    "\n",
    "import os               # File and folder handling\n",
    "import re               # Regular expressions (used for safe filenames)\n",
    "import pandas as pd     # DataFrames (Excel/SQL handling)\n",
    "from docxtpl import DocxTemplate  # For templated Word documents\n",
    "from datetime import datetime     # For timestamps in letters\n",
    "from sqlalchemy import create_engine  # To connect Pandas with SQLite DB\n",
    "import logging   "
   ]
  },
  {
   "cell_type": "code",
   "execution_count": 3,
   "id": "873539a3-23b2-43ee-a748-d25d56831b3e",
   "metadata": {},
   "outputs": [],
   "source": [
    "# CONFIGURATION\n",
    "# Dictionary of required input files\n",
    "\n",
    "FILES = {\n",
    "    'price_list': 'price_list_data.xlsx',\n",
    "    'promotion': 'Promotion_table_data.xlsx',\n",
    "    'product_line': 'Product_line_Table.xlsx',\n",
    "    'sku_table': 'SKU_TABLE.xlsx',\n",
    "    'seller_mapping': 'Seller Mapping Table.xlsx',\n",
    "    'category_mapping': 'CATEGORY MAPPING TABLE.xlsx',\n",
    "    'price_monitoring': 'Price_Monitoring_Table.xlsx',\n",
    "    'warning_letter_template': 'Warning Letter.docx'\n",
    "}"
   ]
  },
  {
   "cell_type": "code",
   "execution_count": 4,
   "id": "8facd081-9833-4da7-ba20-d163d0b6d798",
   "metadata": {},
   "outputs": [],
   "source": [
    "# Folder for generated output\n",
    "OUTPUT_DIR = \"output\""
   ]
  },
  {
   "cell_type": "code",
   "execution_count": 5,
   "id": "7ecfc0ee-da91-4fd6-8019-c0d20c0cef4e",
   "metadata": {},
   "outputs": [],
   "source": [
    "# SQLite database name\n",
    "DB_NAME = \"map_compliance.db\""
   ]
  },
  {
   "cell_type": "code",
   "execution_count": 6,
   "id": "d22dfe20-d964-4e0f-9e95-be9706fb7c1a",
   "metadata": {},
   "outputs": [],
   "source": [
    "# Ensure output folder exists (no error if it already does)\n",
    "os.makedirs(OUTPUT_DIR, exist_ok=True)"
   ]
  },
  {
   "cell_type": "code",
   "execution_count": 7,
   "id": "bda1c5b6-748d-4519-a037-ee03e0aea16f",
   "metadata": {},
   "outputs": [],
   "source": [
    "# Create a database connection (SQLite in this case)\n",
    "engine = create_engine(f\"sqlite:///{DB_NAME}\", echo=False)"
   ]
  },
  {
   "cell_type": "code",
   "execution_count": 8,
   "id": "7d6388af-2ea2-4e19-b9e2-f4fed34969bb",
   "metadata": {},
   "outputs": [],
   "source": [
    "# Configure logging (INFO level = standard runtime messages)\n",
    "logging.basicConfig(\n",
    "    format=\"%(levelname)s: %(message)s\",\n",
    "    level=logging.INFO\n",
    ")"
   ]
  },
  {
   "cell_type": "code",
   "execution_count": 9,
   "id": "9216721b-6ff2-491d-9605-1e3a508a4aa5",
   "metadata": {},
   "outputs": [],
   "source": [
    "# HELPER FUNCTIONS\n",
    "\n",
    "def safe_filename(s):\n",
    "    \"\"\"\n",
    "    Convert any string into a safe filename.\n",
    "    Removes or replaces characters that would break file saving.\n",
    "    Example: 'ACME/Store' -> 'ACME_Store'\n",
    "    \"\"\"\n",
    "    return re.sub(r\"[^\\w\\-_. ]\", \"_\", str(s))"
   ]
  },
  {
   "cell_type": "code",
   "execution_count": 10,
   "id": "584ff736-cea9-43bc-bae4-45e0d19c93b7",
   "metadata": {},
   "outputs": [],
   "source": [
    "# STEP 1: LOAD DATA INTO DB\n",
    "\n",
    "\n",
    "def load_excel_to_db(name, filepath):\n",
    "    \"\"\"\n",
    "    Load a single Excel file into the SQLite database.\n",
    "    - name: name of SQL table\n",
    "    - filepath: path to Excel file\n",
    "    \"\"\"\n",
    "    try:\n",
    "        # Read the first sheet of the Excel file\n",
    "        df = pd.read_excel(filepath, sheet_name=0)\n",
    "\n",
    "        # Strip spaces from column headers\n",
    "        df.columns = df.columns.str.strip()\n",
    "\n",
    "        # Save into database as table 'name'\n",
    "        df.to_sql(name, engine, if_exists=\"replace\", index=False)\n",
    "\n",
    "        logging.info(f\"Loaded {filepath} -> {name}\")\n",
    "    except Exception as e:\n",
    "        logging.error(f\"Failed to load {filepath}: {e}\")\n",
    "\n",
    "\n",
    "def load_all_data():\n",
    "    \"\"\"Loop over all Excel files and load them into the DB.\"\"\"\n",
    "    for key, path in FILES.items():\n",
    "        if path.endswith(\".xlsx\"):   # Only process Excel files\n",
    "            load_excel_to_db(key, path)\n",
    "\n"
   ]
  },
  {
   "cell_type": "code",
   "execution_count": 11,
   "id": "4b50b9ae-991c-4a93-8c85-2c08cc9facfa",
   "metadata": {},
   "outputs": [],
   "source": [
    "# STEP 2: FIND PRICE VIOLATIONS\n",
    "\n",
    "def get_violations():\n",
    "    \"\"\"\n",
    "    Query database for violations.\n",
    "    A violation = Advertised_price < LPP (with a valid date).\n",
    "    \"\"\"\n",
    "    query = \"\"\"\n",
    "    SELECT \n",
    "        SKU, PL, Category, Sub_category, seller_name, homologated_name,\n",
    "        MAP_Price, LPP, Advertised_price, Violation_date\n",
    "    FROM price_monitoring\n",
    "    WHERE Advertised_price < LPP\n",
    "      AND Violation_date IS NOT NULL\n",
    "    \"\"\"\n",
    "    return pd.read_sql(query, engine)\n"
   ]
  },
  {
   "cell_type": "code",
   "execution_count": 12,
   "id": "f02b833d-418f-4ec5-8fb1-fc70f50ce38d",
   "metadata": {},
   "outputs": [],
   "source": [
    "# STEP 3: MAP SELLER NAMES\n",
    "\n",
    "\n",
    "def map_resellers(df):\n",
    "    \"\"\"\n",
    "    Normalize seller names using seller_mapping table.\n",
    "    If no mapping is found, keep existing homologated_name.\n",
    "    \"\"\"\n",
    "    try:\n",
    "        mapping = pd.read_sql(\"SELECT * FROM seller_mapping\", engine)\n",
    "        mapping_dict = dict(zip(mapping['SELLER_NAME'], mapping['HOMOLOGATED_NAME']))\n",
    "        df['homologated_name'] = df['seller_name'].map(mapping_dict).fillna(df['homologated_name'])\n",
    "        return df\n",
    "    except Exception as e:\n",
    "        logging.warning(f\"Seller mapping skipped: {e}\")\n",
    "        return df"
   ]
  },
  {
   "cell_type": "code",
   "execution_count": 13,
   "id": "4d4d0d04-6fdc-4ee1-8996-1a52a85bd208",
   "metadata": {},
   "outputs": [],
   "source": [
    "# STEP 4: GENERATE WARNING LETTERS\n",
    "\n",
    "def generate_warning_letters(df):\n",
    "    \"\"\"\n",
    "    Generate Word warning letters for each violation.\n",
    "    Uses DocxTemplate and 'Warning Letter.docx' template.\n",
    "    \"\"\"\n",
    "    template_path = FILES['warning_letter_template']\n",
    "    if not os.path.exists(template_path):\n",
    "        logging.error(\"Warning letter template not found.\")\n",
    "        return\n",
    "\n",
    "    template = DocxTemplate(template_path)\n",
    "\n",
    "    for _, row in df.iterrows():\n",
    "        # Context dictionary -> keys must match placeholders in template\n",
    "        context = {\n",
    "            'Date': datetime.today().strftime('%Y-%m-%d'),\n",
    "            'Reseller_Name': row['seller_name'],\n",
    "            'Reseller_Company': row['homologated_name'],\n",
    "            'Product_Name': f\"{row['SKU']} ({row['Sub_category']})\",\n",
    "            'MAP_Price': f\"${row['MAP_Price']:,.2f}\",\n",
    "            'Advertised_Price': f\"${row['Advertised_price']:,.2f}\",\n",
    "            'Date_of_Violation': row['Violation_date'],\n",
    "            'Platform': row['seller_name'],\n",
    "            'Contact_Information': 'legal@client.com | +1-800-MAP-POLICY'\n",
    "        }\n",
    "\n",
    "        # Fill template with context\n",
    "        template.render(context)\n",
    "\n",
    "        # Safe file name: WARNING_{homologated_name}_{SKU}.docx\n",
    "        filename = os.path.join(\n",
    "            OUTPUT_DIR,\n",
    "            f\"WARNING_{safe_filename(row['homologated_name'])}_{row['SKU']}.docx\"\n",
    "        )\n",
    "\n",
    "        # Save filled document\n",
    "        template.save(filename)\n",
    "        logging.info(f\"Generated {filename}\")"
   ]
  },
  {
   "cell_type": "code",
   "execution_count": 14,
   "id": "6b016552-ca32-47e8-91c5-e65ff3ca118a",
   "metadata": {},
   "outputs": [],
   "source": [
    "# STEP 5: FLAG REPEAT VIOLATORS\n",
    "\n",
    "def flag_suspensions():\n",
    "    \"\"\"\n",
    "    Detect resellers with >1 violation per category.\n",
    "    Save them into 'suspension_flagged' table for audit.\n",
    "    \"\"\"\n",
    "    query = \"\"\"\n",
    "    SELECT homologated_name, Category, COUNT(*) as violation_count\n",
    "    FROM price_monitoring\n",
    "    WHERE Advertised_price < LPP\n",
    "      AND Violation_date IS NOT NULL\n",
    "    GROUP BY homologated_name, Category\n",
    "    HAVING COUNT(*) > 1\n",
    "    \"\"\"\n",
    "    susp = pd.read_sql(query, engine)\n",
    "\n",
    "    # Save results into DB\n",
    "    susp.to_sql(\"suspension_flagged\", engine, if_exists=\"replace\", index=False)\n",
    "\n",
    "    if susp.empty:\n",
    "        logging.info(\"No repeat violations found.\")\n",
    "    else:\n",
    "        for _, row in susp.iterrows():\n",
    "            logging.warning(\n",
    "                f\"Suspend {row['homologated_name']} in {row['Category']} \"\n",
    "                f\"(Violations: {row['violation_count']})\"\n",
    "            )\n"
   ]
  },
  {
   "cell_type": "code",
   "execution_count": 15,
   "id": "beea5a70-7822-4152-9266-ef54f879b225",
   "metadata": {},
   "outputs": [
    {
     "name": "stderr",
     "output_type": "stream",
     "text": [
      "INFO: Starting MAP Compliance System...\n",
      "INFO: Loaded price_list_data.xlsx -> price_list\n",
      "INFO: Loaded Promotion_table_data.xlsx -> promotion\n",
      "INFO: Loaded Product_line_Table.xlsx -> product_line\n",
      "INFO: Loaded SKU_TABLE.xlsx -> sku_table\n",
      "INFO: Loaded Seller Mapping Table.xlsx -> seller_mapping\n",
      "INFO: Loaded CATEGORY MAPPING TABLE.xlsx -> category_mapping\n",
      "INFO: Loaded Price_Monitoring_Table.xlsx -> price_monitoring\n",
      "INFO: Generated output\\WARNING_Publix Super Markets_4K0V8PA.docx\n",
      "INFO: Generated output\\WARNING_Casey_s General Store_03V96QB.docx\n",
      "INFO: Generated output\\WARNING_My Demoulas_952X8QB.docx\n",
      "INFO: Generated output\\WARNING_Lululemon_6X4B9PA.docx\n",
      "INFO: Generated output\\WARNING_Walgreens Boots Alliance_3ED50A.docx\n",
      "INFO: Generated output\\WARNING_Wegmans Food Market_W2090A.docx\n",
      "INFO: Generated output\\WARNING_Lowe_s Companies_W1370A.docx\n",
      "INFO: Generated output\\WARNING_Good Neighbor Pharmacy_492W7B.docx\n",
      "INFO: Generated output\\WARNING_Signet Jewelers_P2V64A.docx\n",
      "INFO: Generated output\\WARNING_Chewy.com_3F3Z5B7.docx\n",
      "INFO: Generated output\\WARNING_Giant Eagle_0R043QB.docx\n",
      "INFO: Generated output\\WARNING_Amway_DF422B.docx\n",
      "INFO: Generated output\\WARNING_Meijer_7O5F9BB.docx\n",
      "INFO: Generated output\\WARNING_Amazon.com_81B19PA.docx\n",
      "INFO: Generated output\\WARNING_Dillard_s_M1T17BB.docx\n",
      "INFO: Generated output\\WARNING_Exxon Mobil Corporation_3A725B.docx\n",
      "INFO: Generated output\\WARNING_O_Reilly Auto Parts_CE320A.docx\n",
      "INFO: Generated output\\WARNING_Nordstrom_9T680PA.docx\n",
      "INFO: Generated output\\WARNING_Williams-Sonoma_4FE88B.docx\n",
      "INFO: Generated output\\WARNING_The Kroger Co._J3M70A.docx\n",
      "INFO: Generated output\\WARNING_Advance Auto_C2P24AA.docx\n",
      "INFO: Generated output\\WARNING_Hudson_s Bay_8Q815QB.docx\n",
      "INFO: Generated output\\WARNING_Harbor Freight Tools_2H0N1AA.docx\n",
      "INFO: Generated output\\WARNING_Qurate Retail_6ZD61AA.docx\n",
      "INFO: Generated output\\WARNING_Southeastern Grocers_515M8D.docx\n",
      "INFO: Generated output\\WARNING_Foot Locker_P2V83A.docx\n",
      "INFO: Generated output\\WARNING_PetSmart_8L146PA.docx\n",
      "INFO: Generated output\\WARNING_Wakefern _ ShopRite_9G7E4QB.docx\n",
      "INFO: Generated output\\WARNING_H.E. Butt Grocery_87G01PA.docx\n",
      "INFO: Generated output\\WARNING_My Demoulas_L0S60AA.docx\n",
      "INFO: Generated output\\WARNING_Verizon Wireless_8F8Z3PA.docx\n",
      "INFO: No repeat violations found.\n",
      "INFO: Process complete.\n"
     ]
    }
   ],
   "source": [
    "# MAIN PROGRAM\n",
    "\n",
    "def main():\n",
    "    logging.info(\"Starting MAP Compliance System...\")\n",
    "\n",
    "    # Step 1: Load Excel data into DB\n",
    "    load_all_data()\n",
    "\n",
    "    # Step 2: Find violations\n",
    "    viol = get_violations()\n",
    "    if viol.empty:\n",
    "        logging.info(\"No violations found. Process complete.\")\n",
    "        return\n",
    "\n",
    "    # Step 3: Map resellers\n",
    "    viol = map_resellers(viol)\n",
    "\n",
    "    # Step 4: Generate warning letters\n",
    "    generate_warning_letters(viol)\n",
    "\n",
    "    # Step 5: Flag suspensions\n",
    "    flag_suspensions()\n",
    "\n",
    "    logging.info(\"Process complete.\")\n",
    "\n",
    "\n",
    "# Run program if script executed directly\n",
    "if __name__ == \"__main__\":\n",
    "    main()"
   ]
  },
  {
   "cell_type": "code",
   "execution_count": null,
   "id": "bb686cdb-c7d5-4f65-832d-39ee175591c7",
   "metadata": {},
   "outputs": [],
   "source": []
  },
  {
   "cell_type": "code",
   "execution_count": null,
   "id": "8b30ee23-23d0-4e62-8f5d-9389b428c50d",
   "metadata": {},
   "outputs": [],
   "source": []
  },
  {
   "cell_type": "code",
   "execution_count": null,
   "id": "62810eab-35b9-44c6-881f-772d09a49d2b",
   "metadata": {},
   "outputs": [],
   "source": []
  },
  {
   "cell_type": "code",
   "execution_count": null,
   "id": "3ed52c01-6775-4e11-a7ab-1e652d6de243",
   "metadata": {},
   "outputs": [],
   "source": []
  },
  {
   "cell_type": "code",
   "execution_count": null,
   "id": "be2f9627-f643-414f-83ca-21913d4fcc47",
   "metadata": {},
   "outputs": [],
   "source": []
  },
  {
   "cell_type": "code",
   "execution_count": null,
   "id": "369b2c5c-7ac0-46fc-a74d-2c252ea20ace",
   "metadata": {},
   "outputs": [],
   "source": []
  },
  {
   "cell_type": "code",
   "execution_count": null,
   "id": "570c48ee-eb1d-48bd-9d4a-49a05c7a8090",
   "metadata": {},
   "outputs": [],
   "source": []
  },
  {
   "cell_type": "code",
   "execution_count": null,
   "id": "2631b220-0a7d-49fc-8052-5b69ceed633a",
   "metadata": {},
   "outputs": [],
   "source": []
  },
  {
   "cell_type": "code",
   "execution_count": null,
   "id": "75a04de2-6193-470c-86c3-3ef22e79d3e6",
   "metadata": {},
   "outputs": [],
   "source": []
  },
  {
   "cell_type": "code",
   "execution_count": null,
   "id": "d57bbe29-a943-435b-aaef-46b8dab1c12b",
   "metadata": {},
   "outputs": [],
   "source": []
  },
  {
   "cell_type": "code",
   "execution_count": null,
   "id": "dff25a66-9ee7-4cd6-a1cf-3cac2d2f8f54",
   "metadata": {},
   "outputs": [],
   "source": []
  },
  {
   "cell_type": "code",
   "execution_count": null,
   "id": "ac894598-2de0-43f1-a4bd-ba78ee6b4fcd",
   "metadata": {},
   "outputs": [],
   "source": []
  },
  {
   "cell_type": "code",
   "execution_count": null,
   "id": "6fb68185-a677-407f-98cc-54c646a98189",
   "metadata": {},
   "outputs": [],
   "source": []
  },
  {
   "cell_type": "code",
   "execution_count": null,
   "id": "f8c8e57f-4c1f-40d2-b617-58d79afb7806",
   "metadata": {},
   "outputs": [],
   "source": []
  },
  {
   "cell_type": "code",
   "execution_count": null,
   "id": "7a29ffbc-55c7-418b-8dd3-e207fe3d48ac",
   "metadata": {},
   "outputs": [],
   "source": []
  },
  {
   "cell_type": "code",
   "execution_count": null,
   "id": "f6b99516-e727-47d5-a9ad-5692b59ea174",
   "metadata": {},
   "outputs": [],
   "source": []
  },
  {
   "cell_type": "code",
   "execution_count": null,
   "id": "104e70c5-19a5-4511-b678-65c43f7884db",
   "metadata": {},
   "outputs": [],
   "source": []
  },
  {
   "cell_type": "code",
   "execution_count": null,
   "id": "809f7767-0063-4560-b422-2948f1a9dd54",
   "metadata": {},
   "outputs": [],
   "source": []
  },
  {
   "cell_type": "code",
   "execution_count": null,
   "id": "b1ca318d-dbb7-4086-80b3-8b2337f1aefb",
   "metadata": {},
   "outputs": [],
   "source": []
  },
  {
   "cell_type": "code",
   "execution_count": null,
   "id": "620f8606-6a44-47bd-a5be-a7ade8bbe6c4",
   "metadata": {},
   "outputs": [],
   "source": []
  },
  {
   "cell_type": "code",
   "execution_count": null,
   "id": "16f3b60a-cc71-4491-8056-29f1dc5a9a16",
   "metadata": {},
   "outputs": [],
   "source": []
  },
  {
   "cell_type": "code",
   "execution_count": null,
   "id": "43baf3a4-57a7-484d-b566-bb0d3086746d",
   "metadata": {},
   "outputs": [],
   "source": []
  },
  {
   "cell_type": "code",
   "execution_count": null,
   "id": "db0663b8-c915-4ac2-ae08-fd5b79bf9139",
   "metadata": {},
   "outputs": [],
   "source": []
  },
  {
   "cell_type": "code",
   "execution_count": null,
   "id": "d5e16823-c07f-4a14-924c-1e2180e48e20",
   "metadata": {},
   "outputs": [],
   "source": []
  },
  {
   "cell_type": "code",
   "execution_count": null,
   "id": "71ddcb34-a9cf-43de-96e0-b2d6b433c9f3",
   "metadata": {},
   "outputs": [],
   "source": []
  },
  {
   "cell_type": "code",
   "execution_count": null,
   "id": "13e791c8-26df-4c5f-935a-603eee502969",
   "metadata": {},
   "outputs": [],
   "source": []
  },
  {
   "cell_type": "code",
   "execution_count": null,
   "id": "76cec60e-e47b-490f-848e-b777c5b9bae2",
   "metadata": {},
   "outputs": [],
   "source": []
  },
  {
   "cell_type": "code",
   "execution_count": null,
   "id": "acb239f4-6c9e-402e-9e42-2d3e5b8a5a30",
   "metadata": {},
   "outputs": [],
   "source": []
  },
  {
   "cell_type": "code",
   "execution_count": null,
   "id": "954c5539-dc17-4da3-8f67-d42376922a34",
   "metadata": {},
   "outputs": [],
   "source": []
  },
  {
   "cell_type": "code",
   "execution_count": null,
   "id": "b03d9bf8-2169-498c-a926-30d78b5e6a47",
   "metadata": {},
   "outputs": [],
   "source": []
  },
  {
   "cell_type": "code",
   "execution_count": null,
   "id": "8c2f7845-a5c2-4ab4-8a5c-27ba46d1015e",
   "metadata": {},
   "outputs": [],
   "source": []
  },
  {
   "cell_type": "code",
   "execution_count": null,
   "id": "c1c31fc3-2e5a-4915-860c-20a542a1c2cd",
   "metadata": {},
   "outputs": [],
   "source": []
  },
  {
   "cell_type": "code",
   "execution_count": null,
   "id": "3e1a876f-f776-4162-be73-8ca4560977c7",
   "metadata": {},
   "outputs": [],
   "source": []
  },
  {
   "cell_type": "code",
   "execution_count": null,
   "id": "305b256c-4a39-4aeb-89d2-046ca34285b1",
   "metadata": {},
   "outputs": [],
   "source": []
  },
  {
   "cell_type": "code",
   "execution_count": null,
   "id": "33b6b202-1459-4bc0-9a39-79ff82665fb6",
   "metadata": {},
   "outputs": [],
   "source": []
  },
  {
   "cell_type": "code",
   "execution_count": null,
   "id": "c0431472-4e07-4a3e-92d1-190523a2de86",
   "metadata": {},
   "outputs": [],
   "source": []
  },
  {
   "cell_type": "code",
   "execution_count": null,
   "id": "341355f0-6dd3-460c-8d72-c425d832f180",
   "metadata": {},
   "outputs": [],
   "source": []
  },
  {
   "cell_type": "code",
   "execution_count": null,
   "id": "8e4c4e46-e2ab-496e-bf0c-7e865e53d26c",
   "metadata": {},
   "outputs": [],
   "source": []
  },
  {
   "cell_type": "code",
   "execution_count": null,
   "id": "1ab93c6a-f269-4996-b704-d2f7647a4bac",
   "metadata": {},
   "outputs": [],
   "source": []
  },
  {
   "cell_type": "code",
   "execution_count": null,
   "id": "66600a2c-9bd5-4e8b-be10-c181dd599f90",
   "metadata": {},
   "outputs": [],
   "source": []
  },
  {
   "cell_type": "code",
   "execution_count": null,
   "id": "3aaf1c1c-5a36-4382-a03f-27c1e1fe652d",
   "metadata": {},
   "outputs": [],
   "source": []
  },
  {
   "cell_type": "code",
   "execution_count": null,
   "id": "c6eef8b9-b700-4ce1-8cf4-d193d13a3e77",
   "metadata": {},
   "outputs": [],
   "source": []
  },
  {
   "cell_type": "code",
   "execution_count": null,
   "id": "9864841c-48d5-4f81-a24a-19184c1bf19c",
   "metadata": {},
   "outputs": [],
   "source": []
  },
  {
   "cell_type": "code",
   "execution_count": null,
   "id": "0dc17d56-c68e-4cfb-a6be-e4f4d9247083",
   "metadata": {},
   "outputs": [],
   "source": []
  },
  {
   "cell_type": "code",
   "execution_count": null,
   "id": "0e8235a5-b8a0-41c2-ae71-a376ec4c34a5",
   "metadata": {},
   "outputs": [],
   "source": []
  },
  {
   "cell_type": "code",
   "execution_count": null,
   "id": "b77c23f8-f22a-47af-aa05-4a8d02f0f7e0",
   "metadata": {},
   "outputs": [],
   "source": []
  },
  {
   "cell_type": "code",
   "execution_count": null,
   "id": "c3e43b45-25e4-4a5e-9090-8684b1007049",
   "metadata": {},
   "outputs": [],
   "source": []
  },
  {
   "cell_type": "code",
   "execution_count": null,
   "id": "4e730d64-cb8f-4a2b-8b9f-3ec166af757d",
   "metadata": {},
   "outputs": [],
   "source": []
  },
  {
   "cell_type": "code",
   "execution_count": null,
   "id": "27e737f6-cdf4-4d23-8858-3d0afc5f41fb",
   "metadata": {},
   "outputs": [],
   "source": []
  },
  {
   "cell_type": "code",
   "execution_count": null,
   "id": "36b280cf-ff20-4a85-b6f6-45b2e76d09b4",
   "metadata": {},
   "outputs": [],
   "source": []
  },
  {
   "cell_type": "code",
   "execution_count": null,
   "id": "e874faaf-17bc-4167-a4d7-d7823c3957d5",
   "metadata": {},
   "outputs": [],
   "source": []
  },
  {
   "cell_type": "code",
   "execution_count": null,
   "id": "81583eea-077f-42eb-b5a7-365a4d207f0a",
   "metadata": {},
   "outputs": [],
   "source": []
  },
  {
   "cell_type": "code",
   "execution_count": null,
   "id": "73eec3fe-6dab-4b4a-bb21-8e18a94e5923",
   "metadata": {},
   "outputs": [],
   "source": []
  },
  {
   "cell_type": "code",
   "execution_count": null,
   "id": "b0869cc0-5048-4c9e-b94d-678905ab44c8",
   "metadata": {},
   "outputs": [],
   "source": []
  },
  {
   "cell_type": "code",
   "execution_count": null,
   "id": "f24efad6-84f5-4ccb-9079-80b9e85c17d9",
   "metadata": {},
   "outputs": [],
   "source": []
  },
  {
   "cell_type": "code",
   "execution_count": null,
   "id": "695cee44-1e73-4438-bc77-5a26e6a8ff3f",
   "metadata": {},
   "outputs": [],
   "source": []
  },
  {
   "cell_type": "code",
   "execution_count": null,
   "id": "1feb8520-6dd4-4e8e-af96-d8551e2db828",
   "metadata": {},
   "outputs": [],
   "source": []
  },
  {
   "cell_type": "code",
   "execution_count": null,
   "id": "a76d2a73-281f-4877-9afe-078b0b36b9c6",
   "metadata": {},
   "outputs": [],
   "source": []
  },
  {
   "cell_type": "code",
   "execution_count": null,
   "id": "923f3c17-d8af-4216-8e2f-5f878b37a2d6",
   "metadata": {},
   "outputs": [],
   "source": []
  },
  {
   "cell_type": "code",
   "execution_count": null,
   "id": "e1f01243-dc9b-4554-b24c-608fcfa2bc5b",
   "metadata": {},
   "outputs": [],
   "source": []
  },
  {
   "cell_type": "code",
   "execution_count": null,
   "id": "ee5ac4ba-d083-4119-8d68-092dfc03f70a",
   "metadata": {},
   "outputs": [],
   "source": []
  },
  {
   "cell_type": "code",
   "execution_count": null,
   "id": "d23a1613-6a84-4afc-b958-9a4e6f745ea0",
   "metadata": {},
   "outputs": [],
   "source": []
  },
  {
   "cell_type": "code",
   "execution_count": null,
   "id": "42d9c832-5443-42b2-9c2d-202f62cae94c",
   "metadata": {},
   "outputs": [],
   "source": []
  },
  {
   "cell_type": "code",
   "execution_count": null,
   "id": "786d0040-86c0-4e7e-9dcf-939a1a062885",
   "metadata": {},
   "outputs": [],
   "source": []
  },
  {
   "cell_type": "code",
   "execution_count": null,
   "id": "dbd50364-e55b-4efc-9fd4-614e713c6e4e",
   "metadata": {},
   "outputs": [],
   "source": []
  },
  {
   "cell_type": "code",
   "execution_count": null,
   "id": "c39d49cb-9926-4205-89b9-08ec87cc0bdd",
   "metadata": {},
   "outputs": [],
   "source": []
  },
  {
   "cell_type": "code",
   "execution_count": null,
   "id": "65eef7ca-46d3-4b49-8636-2483b64d9e28",
   "metadata": {},
   "outputs": [],
   "source": []
  },
  {
   "cell_type": "code",
   "execution_count": null,
   "id": "8e4f544a-5093-4f2d-aaf3-d3f1eee4d849",
   "metadata": {},
   "outputs": [],
   "source": []
  },
  {
   "cell_type": "code",
   "execution_count": null,
   "id": "57371548-6cf3-453e-a8a8-33809b47952f",
   "metadata": {},
   "outputs": [],
   "source": []
  },
  {
   "cell_type": "code",
   "execution_count": null,
   "id": "f85c1418-45da-4c25-b30e-a08255ac74c3",
   "metadata": {},
   "outputs": [],
   "source": []
  },
  {
   "cell_type": "code",
   "execution_count": null,
   "id": "4c7e6b19-a5cd-4c25-b0f0-b4c26c2ce11d",
   "metadata": {},
   "outputs": [],
   "source": []
  },
  {
   "cell_type": "code",
   "execution_count": null,
   "id": "4114e1a5-6f99-4d01-a7d1-b0b5b1472b31",
   "metadata": {},
   "outputs": [],
   "source": []
  },
  {
   "cell_type": "code",
   "execution_count": null,
   "id": "8fb43b7c-593e-4361-adc6-5f8f96999049",
   "metadata": {},
   "outputs": [],
   "source": []
  },
  {
   "cell_type": "code",
   "execution_count": null,
   "id": "ab33da3f-0efd-4263-9ef0-2e328dfe44a6",
   "metadata": {},
   "outputs": [],
   "source": []
  },
  {
   "cell_type": "code",
   "execution_count": null,
   "id": "f6ef5d54-0930-4431-b595-7197d2bd4ee3",
   "metadata": {},
   "outputs": [],
   "source": []
  },
  {
   "cell_type": "code",
   "execution_count": null,
   "id": "d8b3b6b6-d8c6-4c88-aab8-bd5f84f16cb3",
   "metadata": {},
   "outputs": [],
   "source": []
  },
  {
   "cell_type": "code",
   "execution_count": null,
   "id": "55e50d65-f0eb-4917-9fdb-23e3fbeee0e0",
   "metadata": {},
   "outputs": [],
   "source": []
  },
  {
   "cell_type": "code",
   "execution_count": null,
   "id": "dc40916b-a9f1-453d-898c-802ddc831083",
   "metadata": {},
   "outputs": [],
   "source": []
  }
 ],
 "metadata": {
  "kernelspec": {
   "display_name": "Python 3 (ipykernel)",
   "language": "python",
   "name": "python3"
  },
  "language_info": {
   "codemirror_mode": {
    "name": "ipython",
    "version": 3
   },
   "file_extension": ".py",
   "mimetype": "text/x-python",
   "name": "python",
   "nbconvert_exporter": "python",
   "pygments_lexer": "ipython3",
   "version": "3.13.2"
  }
 },
 "nbformat": 4,
 "nbformat_minor": 5
}
